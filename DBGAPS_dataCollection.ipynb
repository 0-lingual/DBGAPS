{
  "nbformat": 4,
  "nbformat_minor": 0,
  "metadata": {
    "colab": {
      "provenance": [],
      "authorship_tag": "ABX9TyP3C5M6oidDcQAw5yU+TChn",
      "include_colab_link": true
    },
    "kernelspec": {
      "name": "python3",
      "display_name": "Python 3"
    },
    "language_info": {
      "name": "python"
    }
  },
  "cells": [
    {
      "cell_type": "markdown",
      "metadata": {
        "id": "view-in-github",
        "colab_type": "text"
      },
      "source": [
        "<a href=\"https://colab.research.google.com/github/0-lingual/DBGAPS_StockPrice/blob/main/DBGAPS_dataCollection.ipynb\" target=\"_parent\"><img src=\"https://colab.research.google.com/assets/colab-badge.svg\" alt=\"Open In Colab\"/></a>"
      ]
    },
    {
      "cell_type": "code",
      "source": [
        "!pip install pandas yfinance schedule"
      ],
      "metadata": {
        "colab": {
          "base_uri": "https://localhost:8080/"
        },
        "id": "NB1ULLWKY7hS",
        "outputId": "888223bc-554c-4705-fd4d-99116251eedf"
      },
      "execution_count": 13,
      "outputs": [
        {
          "output_type": "stream",
          "name": "stdout",
          "text": [
            "Requirement already satisfied: pandas in /usr/local/lib/python3.10/dist-packages (2.0.3)\n",
            "Requirement already satisfied: yfinance in /usr/local/lib/python3.10/dist-packages (0.2.40)\n",
            "Collecting schedule\n",
            "  Downloading schedule-1.2.2-py3-none-any.whl (12 kB)\n",
            "Requirement already satisfied: python-dateutil>=2.8.2 in /usr/local/lib/python3.10/dist-packages (from pandas) (2.8.2)\n",
            "Requirement already satisfied: pytz>=2020.1 in /usr/local/lib/python3.10/dist-packages (from pandas) (2023.4)\n",
            "Requirement already satisfied: tzdata>=2022.1 in /usr/local/lib/python3.10/dist-packages (from pandas) (2024.1)\n",
            "Requirement already satisfied: numpy>=1.21.0 in /usr/local/lib/python3.10/dist-packages (from pandas) (1.25.2)\n",
            "Requirement already satisfied: requests>=2.31 in /usr/local/lib/python3.10/dist-packages (from yfinance) (2.31.0)\n",
            "Requirement already satisfied: multitasking>=0.0.7 in /usr/local/lib/python3.10/dist-packages (from yfinance) (0.0.11)\n",
            "Requirement already satisfied: lxml>=4.9.1 in /usr/local/lib/python3.10/dist-packages (from yfinance) (4.9.4)\n",
            "Requirement already satisfied: platformdirs>=2.0.0 in /usr/local/lib/python3.10/dist-packages (from yfinance) (4.2.2)\n",
            "Requirement already satisfied: frozendict>=2.3.4 in /usr/local/lib/python3.10/dist-packages (from yfinance) (2.4.4)\n",
            "Requirement already satisfied: peewee>=3.16.2 in /usr/local/lib/python3.10/dist-packages (from yfinance) (3.17.5)\n",
            "Requirement already satisfied: beautifulsoup4>=4.11.1 in /usr/local/lib/python3.10/dist-packages (from yfinance) (4.12.3)\n",
            "Requirement already satisfied: html5lib>=1.1 in /usr/local/lib/python3.10/dist-packages (from yfinance) (1.1)\n",
            "Requirement already satisfied: soupsieve>1.2 in /usr/local/lib/python3.10/dist-packages (from beautifulsoup4>=4.11.1->yfinance) (2.5)\n",
            "Requirement already satisfied: six>=1.9 in /usr/local/lib/python3.10/dist-packages (from html5lib>=1.1->yfinance) (1.16.0)\n",
            "Requirement already satisfied: webencodings in /usr/local/lib/python3.10/dist-packages (from html5lib>=1.1->yfinance) (0.5.1)\n",
            "Requirement already satisfied: charset-normalizer<4,>=2 in /usr/local/lib/python3.10/dist-packages (from requests>=2.31->yfinance) (3.3.2)\n",
            "Requirement already satisfied: idna<4,>=2.5 in /usr/local/lib/python3.10/dist-packages (from requests>=2.31->yfinance) (3.7)\n",
            "Requirement already satisfied: urllib3<3,>=1.21.1 in /usr/local/lib/python3.10/dist-packages (from requests>=2.31->yfinance) (2.0.7)\n",
            "Requirement already satisfied: certifi>=2017.4.17 in /usr/local/lib/python3.10/dist-packages (from requests>=2.31->yfinance) (2024.6.2)\n",
            "Installing collected packages: schedule\n",
            "Successfully installed schedule-1.2.2\n"
          ]
        }
      ]
    },
    {
      "cell_type": "code",
      "source": [
        "import FinanceDataReader as fdr\n",
        "import pandas as pd\n",
        "import schedule\n",
        "import time\n",
        "from datetime import datetime, timedelta\n",
        "import threading\n",
        "import os\n",
        "\n",
        "# ETF 목록\n",
        "etf_list = {\n",
        "    'KODEX 200': '069500',\n",
        "    'TIGER 코스닥150': '232080',\n",
        "    'TIGER 미국S&P500선물(H)': '143850',\n",
        "    'TIGER 유로스탁스50(합성,H)': '195930',\n",
        "    'ACE 일본Nikkei225(H)': '241180',\n",
        "    'TIGER 차이나CSI300': '192090',\n",
        "    'KOSEF 국고채10년': '148070',\n",
        "    'KBSTAR 중기우량회사채': '136340',\n",
        "    'TIGER 단기선진하이일드(합성,H)': '182490',\n",
        "    'KODEX 골드선물(H)': '132030',\n",
        "    'TIGER 원유선물Enhanced(H)': '130680',\n",
        "    'KODEX 인버스': '114800',\n",
        "    'KOSEF 미국달러선물': '138230',\n",
        "    'KOSEF 미국달러선물인버스': '139660',\n",
        "    'KOSEF 단기자금': '130730'\n",
        "}\n",
        "\n",
        "# 첫 실행 시 초기 데이터 로드\n",
        "def initial_load():\n",
        "    start_date = '2014-01-01'\n",
        "    end_date = (datetime.now() - timedelta(days=1)).strftime('%Y-%m-%d')\n",
        "    data = {'날짜': [], '종목명': [], '종가': []}\n",
        "\n",
        "    for name, code in etf_list.items():\n",
        "        df = fdr.DataReader(code, start=start_date, end=end_date)\n",
        "        for date, row in df.iterrows():\n",
        "            data['날짜'].append(date.strftime('%Y-%m-%d'))\n",
        "            data['종목명'].append(name)\n",
        "            data['종가'].append(row['Close'])\n",
        "\n",
        "    df_initial = pd.DataFrame(data)\n",
        "    df_initial.to_csv('etf_prices.csv', mode='w', header=True, index=False)\n",
        "    print(\"Initial data load complete.\")\n",
        "\n",
        "# 매일 데이터 업데이트 함수\n",
        "def update_etf_data():\n",
        "    today = datetime.now().strftime('%Y-%m-%d')\n",
        "    data = {'날짜': [], '종목명': [], '종가': []}\n",
        "\n",
        "    for name, code in etf_list.items():\n",
        "        df = fdr.DataReader(code, start=today, end=today)\n",
        "        if not df.empty:\n",
        "            closing_price = df['Close'].iloc[-1]\n",
        "            data['날짜'].append(today)\n",
        "            data['종목명'].append(name)\n",
        "            data['종가'].append(closing_price)\n",
        "\n",
        "    df_daily = pd.DataFrame(data)\n",
        "    df_daily.to_csv('etf_prices.csv', mode='a', header=False, index=False)\n",
        "    print(f\"Data updated for {today}\")\n",
        "\n",
        "# 스케줄러를 별도의 스레드에서 실행\n",
        "def run_schedule():\n",
        "    while True:\n",
        "        schedule.run_pending()\n",
        "        time.sleep(1)\n",
        "\n",
        "# 매일 특정 시간에 데이터 업데이트\n",
        "schedule.every().day.at(\"17:00\").do(update_etf_data)\n",
        "\n",
        "# 첫 데이터 로드 실행\n",
        "if not os.path.exists('etf_prices.csv'):\n",
        "    initial_load()\n",
        "\n",
        "# 첫 데이터 업데이트 즉시 실행\n",
        "update_etf_data()\n",
        "\n",
        "# 스케줄러 스레드 시작\n",
        "scheduler_thread = threading.Thread(target=run_schedule)\n",
        "scheduler_thread.daemon = True\n",
        "scheduler_thread.start()\n",
        "\n",
        "# 메인 프로그램 실행\n",
        "print(\"Scheduler started. Waiting for the scheduled time...\")"
      ],
      "metadata": {
        "colab": {
          "base_uri": "https://localhost:8080/"
        },
        "id": "jcuHGB8gkOrQ",
        "outputId": "3c4013b9-75c4-4290-bb0d-eed71f1af9bc"
      },
      "execution_count": 21,
      "outputs": [
        {
          "output_type": "stream",
          "name": "stdout",
          "text": [
            "Initial data load complete.\n",
            "Data updated for 2024-06-17\n",
            "Scheduler started. Waiting for the scheduled time...\n"
          ]
        }
      ]
    }
  ]
}